{
 "cells": [
  {
   "cell_type": "markdown",
   "id": "71281124-b5bb-4918-b46e-4aa725e1f179",
   "metadata": {},
   "source": [
    "----------------\n",
    "# Image Based Mechanics - hands-on session 2: FE-DIC regularization\n",
    "## October, 6 - 10, 2025, CISM, Udine, Italy\n",
    "#### Jean-Charles PASSIEUX, ICA/INSA Toulouse\n",
    "----------------\n",
    "#### We consider the same dataset as before, namely an openhole glass/epoxy coupon subjected to a tensile test. The same set of images, taken before and during the experiment, is considered again. For more details about the experiment, please refer to reference below.\n",
    "\n",
    "#### In this session, you will try **different weak regularization techniques** and see **how to choose the penalization parameter**.\n",
    "\n",
    "[JC. Passieux, F. Bugarin, C. David, J. Périé and L. Robert (2015)](http://dx.doi.org/10.1007/s11340-014-9872-4) **Multiscale displacement field measurement using digital image correlation: Application to the identification of elastic properties** _Experimental Mechanics_ 55(1), p.121-137"
   ]
  },
  {
   "cell_type": "code",
   "execution_count": 1,
   "id": "728e5d01-21a7-46fb-96a1-bed281207198",
   "metadata": {},
   "outputs": [],
   "source": [
    "import numpy as np\n",
    "import matplotlib.pyplot as plt\n",
    "import pyxel as px\n",
    "import scipy.sparse as sps"
   ]
  },
  {
   "cell_type": "markdown",
   "id": "f3299252-d3ab-4d52-9b11-4e6af796ea2d",
   "metadata": {},
   "source": [
    "## 1. Reload images, camera model and FE mesh\n",
    "Images"
   ]
  },
  {
   "cell_type": "code",
   "execution_count": 13,
   "id": "0d59ba67-a555-4f4a-82e6-e05f165d9566",
   "metadata": {},
   "outputs": [],
   "source": [
    "filename = 'oht_cfrp_%02d.tiff'\n",
    "I0 = px.Image(filename % 0).Load()\n",
    "# I0.Plot()\n",
    "It = px.Image(filename % 10).Load()\n",
    "# It.Plot()"
   ]
  },
  {
   "cell_type": "markdown",
   "id": "ac88f284-3b8a-46f9-b5e5-76bf99e9c64b",
   "metadata": {},
   "source": [
    "Mesh"
   ]
  },
  {
   "cell_type": "code",
   "execution_count": null,
   "id": "6d4f2811-50a5-46a4-8235-4c97d56669ec",
   "metadata": {},
   "outputs": [],
   "source": [
    "box = np.array([[0, 0], [90, 30]])   # outerbox\n",
    "r = 5                                # hole radius\n",
    "cpos = np.array([45.1, 15.3])        # position of the hole center\n",
    "lc = 1                               # size of the elements close the outer boundary\n",
    "lf = 0.5                               # size of the elements close to the hole\n",
    "m = px.OpenHolePlateUnstructured(box, r, cpos, lc, lf)\n",
    "m.Plot()"
   ]
  },
  {
   "cell_type": "markdown",
   "id": "b5e696e0-e7e0-4f59-a9a1-6a555eda3469",
   "metadata": {},
   "source": [
    "Camera model"
   ]
  },
  {
   "cell_type": "code",
   "execution_count": 16,
   "id": "61b21180-a149-4026-b0a0-6b70be6d520d",
   "metadata": {},
   "outputs": [],
   "source": [
    "cam = px.Camera(2)\n",
    "p = np.array([-0.002176, 2.237317, 33.687119, 9.51087e-02])\n",
    "cam.set_p(p)    \n",
    "# px.PlotMeshImage(I0, m, cam)"
   ]
  },
  {
   "cell_type": "markdown",
   "id": "4b8bf887-ba97-440f-825b-e88f35ee00fc",
   "metadata": {},
   "source": [
    "## 2. Run FE-DIC without regularization"
   ]
  },
  {
   "cell_type": "code",
   "execution_count": null,
   "id": "e462210b-03f9-4d57-8a26-20880071239a",
   "metadata": {},
   "outputs": [],
   "source": [
    "m.Connectivity()\n",
    "m.DICIntegration(cam)\n",
    "U0 = px.MultiscaleInit(I0, It, m, cam, scales=[3, 2, 1])\n",
    "U_noreg, res_noreg = px.Correlate(I0, It, m, cam, U0=U0)"
   ]
  },
  {
   "cell_type": "markdown",
   "id": "718c90b5-c3fc-4379-9f6d-d83da109b0cb",
   "metadata": {},
   "source": [
    "### Plot the results without regularization"
   ]
  },
  {
   "cell_type": "markdown",
   "id": "77480b63-60b8-4ea6-af79-69d34a673a71",
   "metadata": {},
   "source": [
    "Visualization: warped mesh without regularization"
   ]
  },
  {
   "cell_type": "code",
   "execution_count": null,
   "id": "4843001f-eca8-4c8b-b4d1-0d80af9f5dc0",
   "metadata": {},
   "outputs": [],
   "source": [
    "m.Plot(alpha=0.2)\n",
    "m.Plot(U_noreg, 30)"
   ]
  },
  {
   "cell_type": "code",
   "execution_count": null,
   "id": "63eff3c8-4f8c-4788-9de6-2dc474b415f3",
   "metadata": {},
   "outputs": [],
   "source": [
    "m.PlotContourDispl(U_noreg, s=30)"
   ]
  },
  {
   "cell_type": "code",
   "execution_count": null,
   "id": "03eab6aa-39b1-421d-972b-c5678d7e98f1",
   "metadata": {},
   "outputs": [],
   "source": [
    "m.PlotContourStrain(U_noreg, clim=1, cmap='RdBu')"
   ]
  },
  {
   "cell_type": "markdown",
   "id": "24bc27f7-65f0-47a9-aa7b-81c5c1761e98",
   "metadata": {},
   "source": [
    "## 3. DIC with Laplacian regularization"
   ]
  },
  {
   "cell_type": "code",
   "execution_count": null,
   "id": "24adc700-0cfe-4fe7-9fc4-0c72d7db1646",
   "metadata": {},
   "outputs": [],
   "source": [
    "l0 = 2  # regularization lenght in mm\n",
    "L = m.Laplacian()\n",
    "U_reg1, res = px.Correlate(I0, It, m, cam, U0=U0, L=L, l0=l0)"
   ]
  },
  {
   "cell_type": "markdown",
   "id": "c9661b74-48eb-4caa-91bf-d796dbb8c758",
   "metadata": {},
   "source": [
    "Visualization: superimpose warped meshes"
   ]
  },
  {
   "cell_type": "code",
   "execution_count": null,
   "id": "98fab312-0716-4da3-b996-a398a9861b44",
   "metadata": {},
   "outputs": [],
   "source": [
    "m.Plot(alpha=0.2)          # in gray, the reference config\n",
    "m.Plot(U_reg1, 30)         # in black, regularization"
   ]
  },
  {
   "cell_type": "markdown",
   "id": "9dc76620-e750-4e25-8a79-507d88217898",
   "metadata": {},
   "source": [
    "### **Exercise:** play with the regularization length below from 0 (no regularisation) to $\\infty$ (strong regularization)"
   ]
  },
  {
   "cell_type": "markdown",
   "id": "14f3fe8f-de74-480c-8c21-d1ce233a97b7",
   "metadata": {},
   "source": [
    "### L-Curve for Laplacian regularization"
   ]
  },
  {
   "cell_type": "code",
   "execution_count": null,
   "id": "9d3e1c7f-9105-4cc6-9d6e-29ccde831ad6",
   "metadata": {},
   "outputs": [],
   "source": [
    "l0_all = np.array([1, 2, 5, 10, 15, 20, 30, 50])\n",
    "U = U_noreg.copy()\n",
    "ULU_G = [np.sqrt(U_noreg.T @ L @ U_noreg)]\n",
    "rr_G = [np.sqrt(res_noreg.T @ res_noreg)]\n",
    "for l0 in l0_all:\n",
    "    U, res = px.Correlate(I0, It, m, cam, U0=U0, L=L, l0=l0)\n",
    "    ULU_G += [np.sqrt(U.T @ L @ U)]\n",
    "    rr_G += [np.sqrt(res.T @ res)]"
   ]
  },
  {
   "cell_type": "markdown",
   "id": "7db3e171-f427-4af0-a845-69cfad618f1f",
   "metadata": {},
   "source": [
    "Plot the L-Curve"
   ]
  },
  {
   "cell_type": "code",
   "execution_count": null,
   "id": "82c61622-5c55-4752-91c0-dd269417a2b2",
   "metadata": {},
   "outputs": [],
   "source": [
    "plt.loglog(rr_G, ULU_G, 'ko-')\n",
    "for i in range(1, len(l0_all)):\n",
    "    plt.text(rr_G[i], ULU_G[i], str(l0_all[i]))"
   ]
  },
  {
   "cell_type": "markdown",
   "id": "1847e091-297a-4c77-a269-188b1049c00e",
   "metadata": {},
   "source": [
    "### **Exercise:** choose an optimal Laplacian regularization length given the L-Curve"
   ]
  },
  {
   "cell_type": "markdown",
   "id": "e40a8467-800b-40d8-b355-1ca5acb9b8cb",
   "metadata": {},
   "source": [
    "### Measurement with optimal penalty parameter"
   ]
  },
  {
   "cell_type": "code",
   "execution_count": null,
   "id": "bc37b854-08c5-40da-b1ec-5128185b8304",
   "metadata": {},
   "outputs": [],
   "source": [
    "l0_G_opt = #TODO\n",
    "U_G_opt, res_G_opt = px.Correlate(I0, It, m, cam, U0=U, L=L, l0=l0_G_opt)"
   ]
  },
  {
   "cell_type": "markdown",
   "id": "2b45d4b7-da82-434b-99d9-389d2bba668a",
   "metadata": {},
   "source": [
    "Visualization: warped mesh with optimal Laplacian regularization"
   ]
  },
  {
   "cell_type": "code",
   "execution_count": null,
   "id": "f1452f57-3c70-4977-8d2b-1a67782e562c",
   "metadata": {},
   "outputs": [],
   "source": [
    "m.Plot(alpha=0.2)          # in gray, the reference config\n",
    "m.Plot(U_G_opt, 30)         # in black, regularization"
   ]
  },
  {
   "cell_type": "markdown",
   "id": "7cfbde85-e2b3-43fa-8e7b-a873ac442810",
   "metadata": {},
   "source": [
    "Plot the displacement field with optimal Laplacian regularization"
   ]
  },
  {
   "cell_type": "code",
   "execution_count": null,
   "id": "44a2e03e-b815-4235-8867-c84a5c446b63",
   "metadata": {},
   "outputs": [],
   "source": [
    "m.PlotContourDispl(U_G_opt, s=30)"
   ]
  },
  {
   "cell_type": "markdown",
   "id": "9f5584f9-649d-4ad9-a748-5fa80b8cd14e",
   "metadata": {},
   "source": [
    "Plot the strain field with optimal Laplacian regularization"
   ]
  },
  {
   "cell_type": "code",
   "execution_count": null,
   "id": "169247e9-bf9c-48c8-b244-96cb8f6dd7cb",
   "metadata": {},
   "outputs": [],
   "source": [
    "m.PlotContourStrain(U_G_opt, clim=1, cmap='RdBu')"
   ]
  },
  {
   "cell_type": "markdown",
   "id": "2040a79d-a7a9-47ef-9ae9-371d7c64f4e3",
   "metadata": {},
   "source": [
    "## 4. DIC with Elastic regularization"
   ]
  },
  {
   "cell_type": "code",
   "execution_count": null,
   "id": "ae248a98-9c40-44ca-a7b0-501ecd9c881e",
   "metadata": {},
   "outputs": [],
   "source": [
    "El = 20.3e3\n",
    "Et = 15.4e3\n",
    "nult = 0.14\n",
    "Glt = 0.93e3\n",
    "hooke = px.Hooke([El, Et, nult, Glt], 'orthotropic_2D')\n",
    "K = m.Stiffness(hooke)\n",
    "nodes_l = m.SelectEndLine('left')\n",
    "nodes_r = m.SelectEndLine('right')\n",
    "nodes_no_regul = np.append(nodes_l, nodes_r)\n",
    "dof_no_regul = m.conn[nodes_no_regul].ravel()\n",
    "D = np.ones(m.ndof)\n",
    "D[dof_no_regul] = 0\n",
    "Ddiag = sps.diags(D)\n",
    "KDK = K @ Ddiag @ K"
   ]
  },
  {
   "cell_type": "markdown",
   "id": "47f08771-362d-47c2-9380-0a7b1264962f",
   "metadata": {},
   "source": [
    "#### Perform DIC with the elastic regularization with an arbitrary regularization length"
   ]
  },
  {
   "cell_type": "code",
   "execution_count": null,
   "id": "f82ac07d-39d2-43c2-856a-59b1a8f3b6ef",
   "metadata": {},
   "outputs": [],
   "source": [
    "U_reg2, res_reg2 = px.Correlate(I0, It, m, cam, U0=U_noreg, L=KDK, l0=1)"
   ]
  },
  {
   "cell_type": "markdown",
   "id": "44d443ca-2ad9-4e28-a57b-2d75dbbcb7af",
   "metadata": {},
   "source": [
    "Visualization: warped meshes with elastic regularization"
   ]
  },
  {
   "cell_type": "code",
   "execution_count": null,
   "id": "3087581f-e57f-4423-98b0-78db8659988b",
   "metadata": {},
   "outputs": [],
   "source": [
    "m.Plot(alpha=0.2)          # in gray, the reference config\n",
    "m.Plot(U_reg2, 30)         # in black, regularization"
   ]
  },
  {
   "cell_type": "markdown",
   "id": "28b0d96f-9b42-4920-b652-dcd2f71b0d46",
   "metadata": {},
   "source": [
    "### **Exercise:** play with the regularization length from 0 (no regul) to $\\infty$ (strong regul)"
   ]
  },
  {
   "cell_type": "markdown",
   "id": "160ad4bd-ab81-4a8e-967b-dc400e4f5265",
   "metadata": {},
   "source": [
    "### L-Curve for elastic regularization"
   ]
  },
  {
   "cell_type": "code",
   "execution_count": null,
   "id": "b4edb602-2361-4eda-823d-1322e2a22b16",
   "metadata": {},
   "outputs": [],
   "source": [
    "U, res = px.Correlate(I0, It, m, cam, U0=U0)\n",
    "l0_all = np.array([0.1, 0.3, 0.5, 1, 5, 10, 20, 30, 50, 75])\n",
    "ULU_M = [np.sqrt(U_noreg.T @ KDK @ U_noreg)]\n",
    "rr_M = [np.sqrt(res_noreg.T @ res_noreg)]\n",
    "U = U_noreg.copy()\n",
    "for l0 in l0_all:\n",
    "    U, res = px.Correlate(I0, It, m, cam, U0=U0, L=KDK, l0=l0)\n",
    "    ULU_M += [np.sqrt(U.T @ KDK @ U)]\n",
    "    rr_M += [np.sqrt(res.T @ res)]"
   ]
  },
  {
   "cell_type": "markdown",
   "id": "f205cacc-34d9-4865-95a4-9467998f2b6e",
   "metadata": {},
   "source": [
    "Plot the L-Curve"
   ]
  },
  {
   "cell_type": "code",
   "execution_count": null,
   "id": "e31e03af-c6b4-466c-a815-c4c9a5b40602",
   "metadata": {},
   "outputs": [],
   "source": [
    "plt.loglog(rr_M, ULU_M, 'ko-')\n",
    "for i in range(1, len(l0_all)):\n",
    "    plt.text(rr_M[i], ULU_M[i], str(l0_all[i]))"
   ]
  },
  {
   "cell_type": "markdown",
   "id": "fbfbabce-e14b-41a9-88cf-b5c1420d6430",
   "metadata": {},
   "source": [
    "### **Exercise:** choose an optimal elastic regularization length given the L-Curve"
   ]
  },
  {
   "cell_type": "code",
   "execution_count": null,
   "id": "e69b12f5-296f-4af4-b526-e87b81e69d01",
   "metadata": {},
   "outputs": [],
   "source": [
    "l0_M_opt = #TODO\n",
    "U_M_opt, res_M_opt = px.Correlate(I0, It, m, cam, U0=U, L=KDK, l0=l0_M_opt)"
   ]
  },
  {
   "cell_type": "code",
   "execution_count": null,
   "id": "a32a47be-0c59-441a-94d6-7dd574e9c0cf",
   "metadata": {},
   "outputs": [],
   "source": [
    "m.Plot(alpha=0.2)          # in gray, the reference config\n",
    "m.Plot(U_M_opt, 30)         # in black, regularization"
   ]
  },
  {
   "cell_type": "markdown",
   "id": "82b3ddda-f7bf-42a5-9dde-04924a3bc401",
   "metadata": {},
   "source": [
    "**Exercise.** Improve the iteration using linear prediction."
   ]
  },
  {
   "cell_type": "code",
   "execution_count": null,
   "id": "6e7e0353-817c-4f33-b18c-e42ea068f4bd",
   "metadata": {},
   "outputs": [],
   "source": [
    "m.PlotContourStrain(U_M_opt, clim=1, cmap='RdBu')"
   ]
  }
 ],
 "metadata": {
  "kernelspec": {
   "display_name": "Python 3 (ipykernel)",
   "language": "python",
   "name": "python3"
  },
  "language_info": {
   "codemirror_mode": {
    "name": "ipython",
    "version": 3
   },
   "file_extension": ".py",
   "mimetype": "text/x-python",
   "name": "python",
   "nbconvert_exporter": "python",
   "pygments_lexer": "ipython3",
   "version": "3.11.13"
  }
 },
 "nbformat": 4,
 "nbformat_minor": 5
}
